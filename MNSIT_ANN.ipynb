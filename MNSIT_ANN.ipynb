{
 "cells": [
  {
   "cell_type": "code",
   "execution_count": 1,
   "id": "fa315c8c-7760-4fbc-8987-a41b7f258197",
   "metadata": {},
   "outputs": [],
   "source": [
    "import tensorflow\n",
    "import keras\n",
    "from tensorflow.keras.models import Sequential\n",
    "from tensorflow.keras.layers import Dense,Flatten,Dropout"
   ]
  },
  {
   "cell_type": "code",
   "execution_count": 2,
   "id": "3b13a647-41ca-422e-ac2a-347c9293a28e",
   "metadata": {},
   "outputs": [],
   "source": [
    "(x_train,y_train),(x_test,y_test)=keras.datasets.mnist.load_data()"
   ]
  },
  {
   "cell_type": "code",
   "execution_count": 5,
   "id": "8d69713c-7a66-4f8f-956b-03c4f6d74f40",
   "metadata": {},
   "outputs": [
    {
     "data": {
      "text/plain": [
       "60000"
      ]
     },
     "execution_count": 5,
     "metadata": {},
     "output_type": "execute_result"
    }
   ],
   "source": [
    "len(x_train)"
   ]
  },
  {
   "cell_type": "code",
   "execution_count": 7,
   "id": "dbbf72e6-e2b2-4699-81a0-8f2e52cfdbcd",
   "metadata": {},
   "outputs": [],
   "source": [
    "import matplotlib.pyplot as plt"
   ]
  },
  {
   "cell_type": "code",
   "execution_count": 9,
   "id": "5433696a-8453-4524-b438-f934c42deab1",
   "metadata": {},
   "outputs": [
    {
     "data": {
      "text/plain": [
       "<matplotlib.image.AxesImage at 0x27b82ad23f0>"
      ]
     },
     "execution_count": 9,
     "metadata": {},
     "output_type": "execute_result"
    },
    {
     "data": {
      "image/png": "[encoded data removed]",
      "text/plain": [
       "<Figure size 640x480 with 1 Axes>"
      ]
     },
     "metadata": {},
     "output_type": "display_data"
    }
   ],
   "source": [
    "plt.imshow(x_train[1])"
   ]
  },
  {
   "cell_type": "code",
   "execution_count": 11,
   "id": "ad9610fe-5794-4fe8-9d5a-809c81116e76",
   "metadata": {},
   "outputs": [],
   "source": [
    "x_train=x_train/255\n",
    "x_test=x_test/255"
   ]
  },
  {
   "cell_type": "code",
   "execution_count": 12,
   "id": "d027dc0a-b1e7-411b-9a69-87f44bdd9178",
   "metadata": {},
   "outputs": [
    {
     "data": {
      "text/plain": [
       "<matplotlib.image.AxesImage at 0x27b830467b0>"
      ]
     },
     "execution_count": 12,
     "metadata": {},
     "output_type": "execute_result"
    },
    {
     "data": {
      "image/png": "[encoded data removed]",
      "text/plain": [
       "<Figure size 640x480 with 1 Axes>"
      ]
     },
     "metadata": {},
     "output_type": "display_data"
    }
   ],
   "source": [
    "plt.imshow(x_train[1])"
   ]
  },
  {
   "cell_type": "code",
   "execution_count": 15,
   "id": "f415e22d-f82c-4486-a868-f1c2886d0a7e",
   "metadata": {},
   "outputs": [],
   "source": [
    "from tensorflow.keras.callbacks import EarlyStopping\n",
    "early_stopping = EarlyStopping(\n",
    "    patience=3,            \n",
    "    monitor='val_Accuracy',       \n",
    "    mode='max',                    \n",
    "    restore_best_weights=True      \n",
    ")"
   ]
  },
  {
   "cell_type": "code",
   "execution_count": 17,
   "id": "1fb2253e-dea9-45a0-a42c-b22b4891e07c",
   "metadata": {},
   "outputs": [
    {
     "name": "stderr",
     "output_type": "stream",
     "text": [
      "C:\\Users\\admin\\anaconda3\\Lib\\site-packages\\keras\\src\\layers\\reshaping\\flatten.py:37: UserWarning: Do not pass an `input_shape`/`input_dim` argument to a layer. When using Sequential models, prefer using an `Input(shape)` object as the first layer in the model instead.\n",
      "  super().__init__(**kwargs)\n"
     ]
    }
   ],
   "source": [
    "model=Sequential()\n",
    "model.add(Flatten(input_shape=(28,28)))\n",
    "model.add(Dense(256,activation='relu'))\n",
    "model.add(Dropout(0.5))\n",
    "model.add(Dense(128,activation='relu'))\n",
    "model.add(Dropout(0.3))\n",
    "model.add(Dense(10,activation='softmax'))"
   ]
  },
  {
   "cell_type": "code",
   "execution_count": 19,
   "id": "f6650f99-3c9f-4665-9e8f-7e475928ed60",
   "metadata": {},
   "outputs": [],
   "source": [
    "model.compile(loss='sparse_categorical_crossentropy',optimizer='Adam',metrics=['Accuracy'])"
   ]
  },
  {
   "cell_type": "code",
   "execution_count": null,
   "id": "59007244-d368-42df-a7af-23b9549380d0",
   "metadata": {},
   "outputs": [
    {
     "name": "stdout",
     "output_type": "stream",
     "text": [
      "Epoch 1/50\n",
      "\u001b[1m1500/1500\u001b[0m \u001b[32m━━━━━━━━━━━━━━━━━━━━\u001b[0m\u001b[37m\u001b[0m \u001b[1m25s\u001b[0m 14ms/step - Accuracy: 0.7888 - loss: 0.6641 - val_Accuracy: 0.9558 - val_loss: 0.1483\n",
      "Epoch 2/50\n",
      "\u001b[1m1500/1500\u001b[0m \u001b[32m━━━━━━━━━━━━━━━━━━━━\u001b[0m\u001b[37m\u001b[0m \u001b[1m44s\u001b[0m 16ms/step - Accuracy: 0.9329 - loss: 0.2192 - val_Accuracy: 0.9634 - val_loss: 0.1189\n",
      "Epoch 3/50\n",
      "\u001b[1m1500/1500\u001b[0m \u001b[32m━━━━━━━━━━━━━━━━━━━━\u001b[0m\u001b[37m\u001b[0m \u001b[1m41s\u001b[0m 16ms/step - Accuracy: 0.9497 - loss: 0.1684 - val_Accuracy: 0.9658 - val_loss: 0.1133\n",
      "Epoch 4/50\n",
      "\u001b[1m1500/1500\u001b[0m \u001b[32m━━━━━━━━━━━━━━━━━━━━\u001b[0m\u001b[37m\u001b[0m \u001b[1m40s\u001b[0m 15ms/step - Accuracy: 0.9526 - loss: 0.1521 - val_Accuracy: 0.9721 - val_loss: 0.0950\n",
      "Epoch 5/50\n",
      "\u001b[1m1500/1500\u001b[0m \u001b[32m━━━━━━━━━━━━━━━━━━━━\u001b[0m\u001b[37m\u001b[0m \u001b[1m41s\u001b[0m 16ms/step - Accuracy: 0.9594 - loss: 0.1308 - val_Accuracy: 0.9732 - val_loss: 0.0893\n",
      "Epoch 6/50\n",
      "\u001b[1m1500/1500\u001b[0m \u001b[32m━━━━━━━━━━━━━━━━━━━━\u001b[0m\u001b[37m\u001b[0m \u001b[1m55s\u001b[0m 16ms/step - Accuracy: 0.9643 - loss: 0.1181 - val_Accuracy: 0.9749 - val_loss: 0.0851\n",
      "Epoch 7/50\n",
      "\u001b[1m1500/1500\u001b[0m \u001b[32m━━━━━━━━━━━━━━━━━━━━\u001b[0m\u001b[37m\u001b[0m \u001b[1m41s\u001b[0m 16ms/step - Accuracy: 0.9660 - loss: 0.1168 - val_Accuracy: 0.9757 - val_loss: 0.0831\n",
      "Epoch 8/50\n",
      "\u001b[1m1500/1500\u001b[0m \u001b[32m━━━━━━━━━━━━━━━━━━━━\u001b[0m\u001b[37m\u001b[0m \u001b[1m41s\u001b[0m 16ms/step - Accuracy: 0.9677 - loss: 0.1102 - val_Accuracy: 0.9761 - val_loss: 0.0839\n",
      "Epoch 9/50\n",
      "\u001b[1m1500/1500\u001b[0m \u001b[32m━━━━━━━━━━━━━━━━━━━━\u001b[0m\u001b[37m\u001b[0m \u001b[1m41s\u001b[0m 16ms/step - Accuracy: 0.9678 - loss: 0.1064 - val_Accuracy: 0.9760 - val_loss: 0.0828\n",
      "Epoch 10/50\n",
      "\u001b[1m1500/1500\u001b[0m \u001b[32m━━━━━━━━━━━━━━━━━━━━\u001b[0m\u001b[37m\u001b[0m \u001b[1m42s\u001b[0m 16ms/step - Accuracy: 0.9703 - loss: 0.0943 - val_Accuracy: 0.9766 - val_loss: 0.0792\n",
      "Epoch 11/50\n",
      "\u001b[1m1500/1500\u001b[0m \u001b[32m━━━━━━━━━━━━━━━━━━━━\u001b[0m\u001b[37m\u001b[0m \u001b[1m41s\u001b[0m 16ms/step - Accuracy: 0.9692 - loss: 0.0970 - val_Accuracy: 0.9772 - val_loss: 0.0801\n",
      "Epoch 12/50\n",
      "\u001b[1m1500/1500\u001b[0m \u001b[32m━━━━━━━━━━━━━━━━━━━━\u001b[0m\u001b[37m\u001b[0m \u001b[1m41s\u001b[0m 16ms/step - Accuracy: 0.9707 - loss: 0.0955 - val_Accuracy: 0.9776 - val_loss: 0.0772\n",
      "Epoch 13/50\n",
      "\u001b[1m1500/1500\u001b[0m \u001b[32m━━━━━━━━━━━━━━━━━━━━\u001b[0m\u001b[37m\u001b[0m \u001b[1m40s\u001b[0m 16ms/step - Accuracy: 0.9726 - loss: 0.0881 - val_Accuracy: 0.9778 - val_loss: 0.0774\n",
      "Epoch 14/50\n"
     ]
    }
   ],
   "source": [
    "graphs=model.fit(x_train,y_train,batch_size=32,epochs=50,validation_split=0.2,callbacks=[early_stopping])"
   ]
  },
  {
   "cell_type": "code",
   "execution_count": 49,
   "id": "e60a23db-e8f1-4410-9044-2e18616e1502",
   "metadata": {},
   "outputs": [
    {
     "name": "stdout",
     "output_type": "stream",
     "text": [
      "\u001b[1m313/313\u001b[0m \u001b[32m━━━━━━━━━━━━━━━━━━━━\u001b[0m\u001b[37m\u001b[0m \u001b[1m2s\u001b[0m 5ms/step\n"
     ]
    }
   ],
   "source": [
    "y_prod=model.predict(x_test)"
   ]
  },
  {
   "cell_type": "code",
   "execution_count": 50,
   "id": "75176b69-da81-43a7-b94c-5924011ca844",
   "metadata": {},
   "outputs": [],
   "source": [
    "y_pred=y_prod.argmax(axis=1)"
   ]
  },
  {
   "cell_type": "code",
   "execution_count": null,
   "id": "d743da3b-9bb6-497f-911a-f5d399019fa2",
   "metadata": {},
   "outputs": [],
   "source": []
  },
  {
   "cell_type": "code",
   "execution_count": 52,
   "id": "80265f58-5d77-4189-b6b2-374f660e6441",
   "metadata": {},
   "outputs": [],
   "source": [
    "from sklearn.metrics import accuracy_score"
   ]
  },
  {
   "cell_type": "code",
   "execution_count": 53,
   "id": "28084a34-7d36-4681-9a23-560a36a1ad31",
   "metadata": {},
   "outputs": [
    {
     "data": {
      "text/plain": [
       "0.9784"
      ]
     },
     "execution_count": 53,
     "metadata": {},
     "output_type": "execute_result"
    }
   ],
   "source": [
    "accuracy_score(y_pred,y_test)"
   ]
  },
  {
   "cell_type": "code",
   "execution_count": 59,
   "id": "54dcaae4-08a6-4703-853b-d5924fd64b5a",
   "metadata": {},
   "outputs": [
    {
     "data": {
      "text/plain": [
       "{'Accuracy': [0.9375625252723694,\n",
       "  0.9478333592414856,\n",
       "  0.9544583559036255,\n",
       "  0.9580625295639038,\n",
       "  0.961312472820282,\n",
       "  0.9642500281333923,\n",
       "  0.9660000205039978,\n",
       "  0.9666666388511658,\n",
       "  0.968708336353302,\n",
       "  0.9694791436195374,\n",
       "  0.9715625047683716,\n",
       "  0.9731666445732117,\n",
       "  0.9725833535194397,\n",
       "  0.9726666808128357,\n",
       "  0.9747291803359985,\n",
       "  0.9763333201408386,\n",
       "  0.9760208129882812],\n",
       " 'loss': [0.2086157500743866,\n",
       "  0.1750202625989914,\n",
       "  0.1516280472278595,\n",
       "  0.14058727025985718,\n",
       "  0.1243278980255127,\n",
       "  0.11693531274795532,\n",
       "  0.1078159362077713,\n",
       "  0.10762982070446014,\n",
       "  0.099702849984169,\n",
       "  0.09603042900562286,\n",
       "  0.09098280966281891,\n",
       "  0.08799616247415543,\n",
       "  0.088557668030262,\n",
       "  0.08583633601665497,\n",
       "  0.0824037715792656,\n",
       "  0.07920780032873154,\n",
       "  0.07640737295150757],\n",
       " 'val_Accuracy': [0.9646666646003723,\n",
       "  0.9664166569709778,\n",
       "  0.9709166884422302,\n",
       "  0.9725833535194397,\n",
       "  0.9742500185966492,\n",
       "  0.9739999771118164,\n",
       "  0.9749166369438171,\n",
       "  0.9774166941642761,\n",
       "  0.9758333563804626,\n",
       "  0.9766666889190674,\n",
       "  0.9784166812896729,\n",
       "  0.9792500138282776,\n",
       "  0.9782500267028809,\n",
       "  0.9803333282470703,\n",
       "  0.9765833616256714,\n",
       "  0.9779999852180481,\n",
       "  0.9780833125114441],\n",
       " 'val_loss': [0.11252686381340027,\n",
       "  0.10580196231603622,\n",
       "  0.09695925563573837,\n",
       "  0.09088174253702164,\n",
       "  0.08798554539680481,\n",
       "  0.0901540145277977,\n",
       "  0.08917602896690369,\n",
       "  0.07991693913936615,\n",
       "  0.08580560982227325,\n",
       "  0.08397062122821808,\n",
       "  0.08010324835777283,\n",
       "  0.07843899726867676,\n",
       "  0.08038599789142609,\n",
       "  0.07967331260442734,\n",
       "  0.08300135284662247,\n",
       "  0.08492956310510635,\n",
       "  0.08250260353088379]}"
      ]
     },
     "execution_count": 59,
     "metadata": {},
     "output_type": "execute_result"
    }
   ],
   "source": [
    "graphs.history"
   ]
  },
  {
   "cell_type": "code",
   "execution_count": 61,
   "id": "750b2d5d-b8da-4e0d-8740-4c166312e2d9",
   "metadata": {},
   "outputs": [
    {
     "data": {
      "text/plain": [
       "[<matplotlib.lines.Line2D at 0x23b385dfa40>]"
      ]
     },
     "execution_count": 61,
     "metadata": {},
     "output_type": "execute_result"
    },
    {
     "data": {
      "image/png": "[encoded data removed]",
      "text/plain": [
       "<Figure size 640x480 with 1 Axes>"
      ]
     },
     "metadata": {},
     "output_type": "display_data"
    }
   ],
   "source": [
    "import matplotlib.pyplot as plt\n",
    "plt.plot(graphs.history['loss'])\n",
    "plt.plot(graphs.history['val_loss'])"
   ]
  },
  {
   "cell_type": "code",
   "execution_count": 63,
   "id": "ff5b3bd1-f453-4ac7-bdd9-fc301b9dd915",
   "metadata": {},
   "outputs": [
    {
     "data": {
      "text/plain": [
       "[<matplotlib.lines.Line2D at 0x23b35d1b9e0>]"
      ]
     },
     "execution_count": 63,
     "metadata": {},
     "output_type": "execute_result"
    },
    {
     "data": {
      "image/png": "[encoded data removed]",
      "text/plain": [
       "<Figure size 640x480 with 1 Axes>"
      ]
     },
     "metadata": {},
     "output_type": "display_data"
    }
   ],
   "source": [
    "plt.plot(graphs.history['Accuracy'])\n",
    "plt.plot(graphs.history['val_Accuracy'])"
   ]
  },
  {
   "cell_type": "code",
   "execution_count": null,
   "id": "141869f2-26b6-4545-8e1c-d43ba6e51282",
   "metadata": {},
   "outputs": [],
   "source": []
  },
  {
   "cell_type": "code",
   "execution_count": null,
   "id": "829aacd6-0924-4691-8abc-24e68d60f1a9",
   "metadata": {},
   "outputs": [],
   "source": []
  }
 ],
 "metadata": {
  "kernelspec": {
   "display_name": "Python [conda env:base] *",
   "language": "python",
   "name": "conda-base-py"
  },
  "language_info": {
   "codemirror_mode": {
    "name": "ipython",
    "version": 3
   },
   "file_extension": ".py",
   "mimetype": "text/x-python",
   "name": "python",
   "nbconvert_exporter": "python",
   "pygments_lexer": "ipython3",
   "version": "3.12.7"
  }
 },
 "nbformat": 4,
 "nbformat_minor": 5
}
